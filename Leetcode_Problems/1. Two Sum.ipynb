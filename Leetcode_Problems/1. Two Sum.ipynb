{
 "cells": [
  {
   "cell_type": "code",
   "execution_count": 81,
   "metadata": {},
   "outputs": [],
   "source": [
    "nums = [5, 75, 25]\n",
    "target = 100"
   ]
  },
  {
   "cell_type": "code",
   "execution_count": 103,
   "metadata": {},
   "outputs": [],
   "source": [
    "class Solution:\n",
    "    # in method1, dict is used to store number and index, \n",
    "    # it takes O(n) time and O(n) extra space\n",
    "    def method1(self, nums, target):\n",
    "        \n",
    "        target_index = []\n",
    "        temp_result = int(target/2)\n",
    "        for i in range(len(nums)):\n",
    "            if nums[i] == temp_result:\n",
    "                target_index.append(i)\n",
    "            if len(target_index) == 2:\n",
    "                return(target_index[0], target_index[1])\n",
    "            \n",
    "        nums_dict = {}\n",
    "        for i in range(len(nums)):\n",
    "            nums_dict[nums[i]] = list([nums[i], i])\n",
    "        \n",
    "        for i in range(len(nums)):\n",
    "            temp_data = target - nums[i]\n",
    "            get_data = nums_dict.get(temp_data, [-999, -999])\n",
    "            if ((get_data[0] != -999) & (get_data[1]!=i) ):\n",
    "                return(i, get_data[1])\n",
    "                # break\n",
    "        \n",
    "    # this method2 is the brute force approach, takes O(n^2) time and O(1) extra space\n",
    "    def method2(self, nums, target):\n",
    "        for i in range(len(nums)):\n",
    "            temp = target - nums[i]\n",
    "            temp_arr = nums[i+1:]\n",
    "            for j in range(len(temp_arr)):\n",
    "                if (target - nums[i]) == nums[i+j+1]:\n",
    "                    return(i, i+j+1)\n",
    "        \n",
    "    # Here each number is checked, whether they are +ve or -ve, \n",
    "    # if all are +ve, then call method1 i.e implemented using dict\n",
    "    # if any number or target is -ve, then call method2 using 2 for loops\n",
    "    def twoSum(self, nums, target):\n",
    "        flag = 1\n",
    "        for x in nums:\n",
    "            if x < 0:\n",
    "                flag = -1\n",
    "        if target < 0:\n",
    "            flag = -1\n",
    "        if flag != -1:  \n",
    "            return self.method1(nums, target)\n",
    "        else:\n",
    "            return self.method2(nums, target)\n",
    "    \n",
    "    \n",
    "    # here only dictionary is used to solve the problem, that takes O(n) time and O(n) extra space\n",
    "    # Logic -\n",
    "    # for each element, find difference, and check if difference exists in dict, \n",
    "    # if diff exist in dict, then return it's index\n",
    "    # if diff does not exist in dict, then store the number and index to dict\n",
    "    def twoSum_improved(self, nums, target):\n",
    "        num_dict = {}\n",
    "        for x, num in enumerate(nums):\n",
    "            diff = target - num\n",
    "            if diff not in num_dict:\n",
    "                num_dict[num] = x\n",
    "            else:\n",
    "                return (num_dict[diff], x)"
   ]
  },
  {
   "cell_type": "code",
   "execution_count": 101,
   "metadata": {},
   "outputs": [
    {
     "data": {
      "text/plain": [
       "(1, 2)"
      ]
     },
     "execution_count": 101,
     "metadata": {},
     "output_type": "execute_result"
    }
   ],
   "source": [
    "# create object of Solution class and call various functions\n",
    "obj1 = Solution()\n",
    "# obj1.twoSum(nums, target)\n",
    "obj1.twoSum_improved(nums, target)"
   ]
  },
  {
   "cell_type": "code",
   "execution_count": null,
   "metadata": {},
   "outputs": [],
   "source": []
  },
  {
   "cell_type": "code",
   "execution_count": null,
   "metadata": {},
   "outputs": [],
   "source": []
  },
  {
   "cell_type": "code",
   "execution_count": null,
   "metadata": {},
   "outputs": [],
   "source": []
  },
  {
   "cell_type": "code",
   "execution_count": null,
   "metadata": {},
   "outputs": [],
   "source": []
  },
  {
   "cell_type": "code",
   "execution_count": null,
   "metadata": {},
   "outputs": [],
   "source": []
  },
  {
   "cell_type": "code",
   "execution_count": null,
   "metadata": {},
   "outputs": [],
   "source": []
  },
  {
   "cell_type": "markdown",
   "metadata": {},
   "source": [
    "### Rough works"
   ]
  },
  {
   "cell_type": "code",
   "execution_count": 82,
   "metadata": {},
   "outputs": [
    {
     "name": "stdout",
     "output_type": "stream",
     "text": [
      "50\n"
     ]
    }
   ],
   "source": [
    "target_index = []\n",
    "temp_result = int(target/2)\n",
    "print(temp_result)\n",
    "for i in range(len(nums)):\n",
    "    if nums[i] == temp_result:\n",
    "        target_index.append(i)\n",
    "    if len(target_index) == 2:\n",
    "        print(target_index[0], target_index[1])"
   ]
  },
  {
   "cell_type": "code",
   "execution_count": 83,
   "metadata": {},
   "outputs": [
    {
     "name": "stdout",
     "output_type": "stream",
     "text": [
      "1 2\n"
     ]
    }
   ],
   "source": [
    "for i in range(len(nums)):\n",
    "    temp = target - nums[i]\n",
    "    temp_arr = nums[i+1:]\n",
    "    for j in range(len(temp_arr)):\n",
    "        if (target - nums[i]) == nums[i+j+1]:\n",
    "            print(i, i+j+1)"
   ]
  },
  {
   "cell_type": "code",
   "execution_count": 88,
   "metadata": {},
   "outputs": [],
   "source": [
    "nums_dict = {}\n",
    "for i in range(len(nums)):\n",
    "    nums_dict[nums[i]] = list([nums[i], i])"
   ]
  },
  {
   "cell_type": "code",
   "execution_count": 93,
   "metadata": {},
   "outputs": [
    {
     "name": "stdout",
     "output_type": "stream",
     "text": [
      "1 2\n"
     ]
    }
   ],
   "source": [
    "for i in range(len(nums)):\n",
    "#     print(i, nums[i])\n",
    "    temp_data = target - nums[i]\n",
    "    get_data = nums_dict.get(temp_data, [-999, -999])\n",
    "#     print(temp_data, get_data)\n",
    "    if ((get_data[0] != -999) & (get_data[1]!=i) ):\n",
    "        print(i, get_data[1])\n",
    "        break"
   ]
  },
  {
   "cell_type": "code",
   "execution_count": 62,
   "metadata": {},
   "outputs": [
    {
     "data": {
      "text/plain": [
       "{1: [1, 0], 2: [2, 1], 3: [3, 2], 4: [4, 3], 5: [5, 4]}"
      ]
     },
     "execution_count": 62,
     "metadata": {},
     "output_type": "execute_result"
    }
   ],
   "source": [
    "nums_dict"
   ]
  },
  {
   "cell_type": "code",
   "execution_count": null,
   "metadata": {},
   "outputs": [],
   "source": []
  },
  {
   "cell_type": "code",
   "execution_count": null,
   "metadata": {},
   "outputs": [],
   "source": []
  },
  {
   "cell_type": "code",
   "execution_count": null,
   "metadata": {},
   "outputs": [],
   "source": []
  },
  {
   "cell_type": "code",
   "execution_count": null,
   "metadata": {},
   "outputs": [],
   "source": []
  },
  {
   "cell_type": "code",
   "execution_count": null,
   "metadata": {},
   "outputs": [],
   "source": []
  },
  {
   "cell_type": "code",
   "execution_count": null,
   "metadata": {},
   "outputs": [],
   "source": []
  }
 ],
 "metadata": {
  "kernelspec": {
   "display_name": "Python 3",
   "language": "python",
   "name": "python3"
  },
  "language_info": {
   "codemirror_mode": {
    "name": "ipython",
    "version": 3
   },
   "file_extension": ".py",
   "mimetype": "text/x-python",
   "name": "python",
   "nbconvert_exporter": "python",
   "pygments_lexer": "ipython3",
   "version": "3.6.9"
  }
 },
 "nbformat": 4,
 "nbformat_minor": 2
}
